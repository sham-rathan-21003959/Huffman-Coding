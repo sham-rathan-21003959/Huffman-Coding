{
 "cells": [
  {
   "cell_type": "code",
   "execution_count": 2,
   "id": "5ed1c11a",
   "metadata": {},
   "outputs": [
    {
     "name": "stdout",
     "output_type": "stream",
     "text": [
      " Char | Huffman code \n",
      "----------------------\n",
      "'e' |          10\n",
      "'o' |        1111\n",
      "' ' |        1110\n",
      "'t' |         001\n",
      "'a' |         000\n",
      "'W' |        1100\n",
      "'l' |       11011\n",
      "'c' |       11010\n",
      "'m' |        0101\n",
      "'s' |        0100\n",
      "'v' |        0111\n",
      "'h' |        0110\n"
     ]
    }
   ],
   "source": [
    "# Get the input String\n",
    "string = 'Welcome to saveetha'\n",
    "class NodeTree(object):\n",
    "    def __init__(self, left=None, right=None): \n",
    "        self.left = left\n",
    "        self.right=right\n",
    "    def children(self):\n",
    "        return (self.left,self.right)\n",
    "    def nodes (self):\n",
    "        return (self.left,self.right)\n",
    "    def __str__(self):\n",
    "        return '%s %s' %(self.left,self.right)\n",
    "# Create tree nodes\n",
    "def huffman_code_tree (node, left=True, binString=''):\n",
    "    if type(node) is str:\n",
    "        return {node: binString}\n",
    "    (l, r) = node.children()\n",
    "    d = dict()\n",
    "    d.update(huffman_code_tree (l, True, binString + '0'))\n",
    "    d.update(huffman_code_tree (r, False, binString + '1'))\n",
    "    return d\n",
    "# Main function to implement huffman coding\n",
    "freq = {}\n",
    "for c in string:\n",
    "    if c in freq:\n",
    "        freq[c] += 1\n",
    "    else:\n",
    "        freq[c] = 1\n",
    "freq = sorted(freq.items(), key=lambda x: x[1], reverse=True)\n",
    "nodes=freq\n",
    "# Calculate frequency of occurrence\n",
    "while len(nodes)>1:\n",
    "    (key1,c1)=nodes[-1]\n",
    "    (key2,c2)=nodes[-2]\n",
    "    nodes = nodes[:-2]\n",
    "    node = NodeTree (key1, key2)\n",
    "    nodes.append((node,c1 + c2))\n",
    "    nodes = sorted (nodes, key=lambda x: x[1], reverse=True)\n",
    "# Print the characters and its huffmancode\n",
    "huffmanCode=huffman_code_tree(nodes[0][0])\n",
    "print(' Char | Huffman code ') \n",
    "print('----------------------')\n",
    "for (char, frequency) in freq:\n",
    "    print('%-4r|%12s'%(char,huffmanCode[char]))"
   ]
  },
  {
   "cell_type": "code",
   "execution_count": null,
   "id": "da7190df",
   "metadata": {},
   "outputs": [],
   "source": []
  }
 ],
 "metadata": {
  "kernelspec": {
   "display_name": "Python 3 (ipykernel)",
   "language": "python",
   "name": "python3"
  },
  "language_info": {
   "codemirror_mode": {
    "name": "ipython",
    "version": 3
   },
   "file_extension": ".py",
   "mimetype": "text/x-python",
   "name": "python",
   "nbconvert_exporter": "python",
   "pygments_lexer": "ipython3",
   "version": "3.8.12"
  }
 },
 "nbformat": 4,
 "nbformat_minor": 5
}
